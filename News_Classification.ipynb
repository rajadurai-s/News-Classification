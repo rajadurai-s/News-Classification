{
 "cells": [
  {
   "cell_type": "code",
   "execution_count": 1,
   "metadata": {
    "id": "f4z6VKMyDjkf"
   },
   "outputs": [],
   "source": [
    "import nltk"
   ]
  },
  {
   "cell_type": "code",
   "execution_count": 2,
   "metadata": {
    "colab": {
     "base_uri": "https://localhost:8080/"
    },
    "id": "lmB0vGrQOeIt",
    "outputId": "377c2d43-062e-46bb-e316-2ccad9325370"
   },
   "outputs": [
    {
     "name": "stdout",
     "output_type": "stream",
     "text": [
      "[nltk_data] Downloading package punkt to /root/nltk_data...\n",
      "[nltk_data]   Unzipping tokenizers/punkt.zip.\n"
     ]
    },
    {
     "data": {
      "text/plain": [
       "True"
      ]
     },
     "execution_count": 2,
     "metadata": {
      "tags": []
     },
     "output_type": "execute_result"
    }
   ],
   "source": [
    "nltk.download('punkt')"
   ]
  },
  {
   "cell_type": "code",
   "execution_count": 3,
   "metadata": {
    "id": "3xg1SH9TOgsM"
   },
   "outputs": [],
   "source": [
    "import pandas as pd"
   ]
  },
  {
   "cell_type": "code",
   "execution_count": 5,
   "metadata": {
    "id": "7GBHFymsOjmD"
   },
   "outputs": [],
   "source": [
    "fake=pd.read_csv(\"Fake-210604-161841.csv\")\n",
    "genuine=pd.read_csv(\"True-210604-161650.csv\")"
   ]
  },
  {
   "cell_type": "code",
   "execution_count": 6,
   "metadata": {
    "colab": {
     "base_uri": "https://localhost:8080/",
     "height": 420
    },
    "id": "xANPXYBXOmCE",
    "outputId": "40003ec7-7c1b-40b8-a3ff-8d1abc6d173d"
   },
   "outputs": [
    {
     "name": "stdout",
     "output_type": "stream",
     "text": [
      "<class 'pandas.core.frame.DataFrame'>\n",
      "RangeIndex: 23481 entries, 0 to 23480\n",
      "Data columns (total 4 columns):\n",
      " #   Column   Non-Null Count  Dtype \n",
      "---  ------   --------------  ----- \n",
      " 0   title    23481 non-null  object\n",
      " 1   text     23481 non-null  object\n",
      " 2   subject  23481 non-null  object\n",
      " 3   date     23481 non-null  object\n",
      "dtypes: object(4)\n",
      "memory usage: 733.9+ KB\n"
     ]
    },
    {
     "data": {
      "text/plain": [
       "None"
      ]
     },
     "metadata": {
      "tags": []
     },
     "output_type": "display_data"
    },
    {
     "name": "stdout",
     "output_type": "stream",
     "text": [
      "<class 'pandas.core.frame.DataFrame'>\n",
      "RangeIndex: 21417 entries, 0 to 21416\n",
      "Data columns (total 4 columns):\n",
      " #   Column   Non-Null Count  Dtype \n",
      "---  ------   --------------  ----- \n",
      " 0   title    21417 non-null  object\n",
      " 1   text     21417 non-null  object\n",
      " 2   subject  21417 non-null  object\n",
      " 3   date     21417 non-null  object\n",
      "dtypes: object(4)\n",
      "memory usage: 669.4+ KB\n"
     ]
    },
    {
     "data": {
      "text/plain": [
       "None"
      ]
     },
     "metadata": {
      "tags": []
     },
     "output_type": "display_data"
    }
   ],
   "source": [
    "display(fake.info())\n",
    "display(genuine.info())"
   ]
  },
  {
   "cell_type": "code",
   "execution_count": 7,
   "metadata": {
    "colab": {
     "base_uri": "https://localhost:8080/",
     "height": 389
    },
    "id": "zu7oFOEGOpD6",
    "outputId": "5d87637b-3792-42fe-f0f6-36e332847bb2"
   },
   "outputs": [
    {
     "data": {
      "text/html": [
       "<div>\n",
       "<style scoped>\n",
       "    .dataframe tbody tr th:only-of-type {\n",
       "        vertical-align: middle;\n",
       "    }\n",
       "\n",
       "    .dataframe tbody tr th {\n",
       "        vertical-align: top;\n",
       "    }\n",
       "\n",
       "    .dataframe thead th {\n",
       "        text-align: right;\n",
       "    }\n",
       "</style>\n",
       "<table border=\"1\" class=\"dataframe\">\n",
       "  <thead>\n",
       "    <tr style=\"text-align: right;\">\n",
       "      <th></th>\n",
       "      <th>title</th>\n",
       "      <th>text</th>\n",
       "      <th>subject</th>\n",
       "      <th>date</th>\n",
       "    </tr>\n",
       "  </thead>\n",
       "  <tbody>\n",
       "    <tr>\n",
       "      <th>0</th>\n",
       "      <td>Donald Trump Sends Out Embarrassing New Year’...</td>\n",
       "      <td>Donald Trump just couldn t wish all Americans ...</td>\n",
       "      <td>News</td>\n",
       "      <td>December 31, 2017</td>\n",
       "    </tr>\n",
       "    <tr>\n",
       "      <th>1</th>\n",
       "      <td>Drunk Bragging Trump Staffer Started Russian ...</td>\n",
       "      <td>House Intelligence Committee Chairman Devin Nu...</td>\n",
       "      <td>News</td>\n",
       "      <td>December 31, 2017</td>\n",
       "    </tr>\n",
       "    <tr>\n",
       "      <th>2</th>\n",
       "      <td>Sheriff David Clarke Becomes An Internet Joke...</td>\n",
       "      <td>On Friday, it was revealed that former Milwauk...</td>\n",
       "      <td>News</td>\n",
       "      <td>December 30, 2017</td>\n",
       "    </tr>\n",
       "    <tr>\n",
       "      <th>3</th>\n",
       "      <td>Trump Is So Obsessed He Even Has Obama’s Name...</td>\n",
       "      <td>On Christmas day, Donald Trump announced that ...</td>\n",
       "      <td>News</td>\n",
       "      <td>December 29, 2017</td>\n",
       "    </tr>\n",
       "    <tr>\n",
       "      <th>4</th>\n",
       "      <td>Pope Francis Just Called Out Donald Trump Dur...</td>\n",
       "      <td>Pope Francis used his annual Christmas Day mes...</td>\n",
       "      <td>News</td>\n",
       "      <td>December 25, 2017</td>\n",
       "    </tr>\n",
       "  </tbody>\n",
       "</table>\n",
       "</div>"
      ],
      "text/plain": [
       "                                               title  ...               date\n",
       "0   Donald Trump Sends Out Embarrassing New Year’...  ...  December 31, 2017\n",
       "1   Drunk Bragging Trump Staffer Started Russian ...  ...  December 31, 2017\n",
       "2   Sheriff David Clarke Becomes An Internet Joke...  ...  December 30, 2017\n",
       "3   Trump Is So Obsessed He Even Has Obama’s Name...  ...  December 29, 2017\n",
       "4   Pope Francis Just Called Out Donald Trump Dur...  ...  December 25, 2017\n",
       "\n",
       "[5 rows x 4 columns]"
      ]
     },
     "metadata": {
      "tags": []
     },
     "output_type": "display_data"
    },
    {
     "data": {
      "text/html": [
       "<div>\n",
       "<style scoped>\n",
       "    .dataframe tbody tr th:only-of-type {\n",
       "        vertical-align: middle;\n",
       "    }\n",
       "\n",
       "    .dataframe tbody tr th {\n",
       "        vertical-align: top;\n",
       "    }\n",
       "\n",
       "    .dataframe thead th {\n",
       "        text-align: right;\n",
       "    }\n",
       "</style>\n",
       "<table border=\"1\" class=\"dataframe\">\n",
       "  <thead>\n",
       "    <tr style=\"text-align: right;\">\n",
       "      <th></th>\n",
       "      <th>title</th>\n",
       "      <th>text</th>\n",
       "      <th>subject</th>\n",
       "      <th>date</th>\n",
       "    </tr>\n",
       "  </thead>\n",
       "  <tbody>\n",
       "    <tr>\n",
       "      <th>0</th>\n",
       "      <td>As U.S. budget fight looms, Republicans flip t...</td>\n",
       "      <td>WASHINGTON (Reuters) - The head of a conservat...</td>\n",
       "      <td>politicsNews</td>\n",
       "      <td>December 31, 2017</td>\n",
       "    </tr>\n",
       "    <tr>\n",
       "      <th>1</th>\n",
       "      <td>U.S. military to accept transgender recruits o...</td>\n",
       "      <td>WASHINGTON (Reuters) - Transgender people will...</td>\n",
       "      <td>politicsNews</td>\n",
       "      <td>December 29, 2017</td>\n",
       "    </tr>\n",
       "    <tr>\n",
       "      <th>2</th>\n",
       "      <td>Senior U.S. Republican senator: 'Let Mr. Muell...</td>\n",
       "      <td>WASHINGTON (Reuters) - The special counsel inv...</td>\n",
       "      <td>politicsNews</td>\n",
       "      <td>December 31, 2017</td>\n",
       "    </tr>\n",
       "    <tr>\n",
       "      <th>3</th>\n",
       "      <td>FBI Russia probe helped by Australian diplomat...</td>\n",
       "      <td>WASHINGTON (Reuters) - Trump campaign adviser ...</td>\n",
       "      <td>politicsNews</td>\n",
       "      <td>December 30, 2017</td>\n",
       "    </tr>\n",
       "    <tr>\n",
       "      <th>4</th>\n",
       "      <td>Trump wants Postal Service to charge 'much mor...</td>\n",
       "      <td>SEATTLE/WASHINGTON (Reuters) - President Donal...</td>\n",
       "      <td>politicsNews</td>\n",
       "      <td>December 29, 2017</td>\n",
       "    </tr>\n",
       "  </tbody>\n",
       "</table>\n",
       "</div>"
      ],
      "text/plain": [
       "                                               title  ...                date\n",
       "0  As U.S. budget fight looms, Republicans flip t...  ...  December 31, 2017 \n",
       "1  U.S. military to accept transgender recruits o...  ...  December 29, 2017 \n",
       "2  Senior U.S. Republican senator: 'Let Mr. Muell...  ...  December 31, 2017 \n",
       "3  FBI Russia probe helped by Australian diplomat...  ...  December 30, 2017 \n",
       "4  Trump wants Postal Service to charge 'much mor...  ...  December 29, 2017 \n",
       "\n",
       "[5 rows x 4 columns]"
      ]
     },
     "metadata": {
      "tags": []
     },
     "output_type": "display_data"
    }
   ],
   "source": [
    "display(fake.head())\n",
    "display(genuine.head())"
   ]
  },
  {
   "cell_type": "code",
   "execution_count": 8,
   "metadata": {
    "colab": {
     "base_uri": "https://localhost:8080/",
     "height": 218
    },
    "id": "JoSkq_S6Os24",
    "outputId": "f0c6d32f-bfdd-490e-f4b6-36ded7adc95d"
   },
   "outputs": [
    {
     "data": {
      "text/plain": [
       "News               9050\n",
       "politics           6841\n",
       "left-news          4459\n",
       "Government News    1570\n",
       "US_News             783\n",
       "Middle-east         778\n",
       "Name: subject, dtype: int64"
      ]
     },
     "metadata": {
      "tags": []
     },
     "output_type": "display_data"
    },
    {
     "name": "stdout",
     "output_type": "stream",
     "text": [
      "\n",
      "\n"
     ]
    },
    {
     "data": {
      "text/plain": [
       "politicsNews    11272\n",
       "worldnews       10145\n",
       "Name: subject, dtype: int64"
      ]
     },
     "metadata": {
      "tags": []
     },
     "output_type": "display_data"
    }
   ],
   "source": [
    "display(fake.subject.value_counts())\n",
    "print('\\n')\n",
    "display(genuine.subject.value_counts())"
   ]
  },
  {
   "cell_type": "code",
   "execution_count": 10,
   "metadata": {
    "id": "YJiCIjFnOwLD"
   },
   "outputs": [],
   "source": [
    "fake['target']=0\n",
    "genuine['target']=1\n"
   ]
  },
  {
   "cell_type": "code",
   "execution_count": 11,
   "metadata": {
    "colab": {
     "base_uri": "https://localhost:8080/",
     "height": 389
    },
    "id": "mqeW-DE7PAVR",
    "outputId": "23dc1beb-80ba-44a6-9e58-c6e40cf03b89"
   },
   "outputs": [
    {
     "data": {
      "text/html": [
       "<div>\n",
       "<style scoped>\n",
       "    .dataframe tbody tr th:only-of-type {\n",
       "        vertical-align: middle;\n",
       "    }\n",
       "\n",
       "    .dataframe tbody tr th {\n",
       "        vertical-align: top;\n",
       "    }\n",
       "\n",
       "    .dataframe thead th {\n",
       "        text-align: right;\n",
       "    }\n",
       "</style>\n",
       "<table border=\"1\" class=\"dataframe\">\n",
       "  <thead>\n",
       "    <tr style=\"text-align: right;\">\n",
       "      <th></th>\n",
       "      <th>title</th>\n",
       "      <th>text</th>\n",
       "      <th>subject</th>\n",
       "      <th>date</th>\n",
       "      <th>target</th>\n",
       "    </tr>\n",
       "  </thead>\n",
       "  <tbody>\n",
       "    <tr>\n",
       "      <th>0</th>\n",
       "      <td>Donald Trump Sends Out Embarrassing New Year’...</td>\n",
       "      <td>Donald Trump just couldn t wish all Americans ...</td>\n",
       "      <td>News</td>\n",
       "      <td>December 31, 2017</td>\n",
       "      <td>0</td>\n",
       "    </tr>\n",
       "    <tr>\n",
       "      <th>1</th>\n",
       "      <td>Drunk Bragging Trump Staffer Started Russian ...</td>\n",
       "      <td>House Intelligence Committee Chairman Devin Nu...</td>\n",
       "      <td>News</td>\n",
       "      <td>December 31, 2017</td>\n",
       "      <td>0</td>\n",
       "    </tr>\n",
       "    <tr>\n",
       "      <th>2</th>\n",
       "      <td>Sheriff David Clarke Becomes An Internet Joke...</td>\n",
       "      <td>On Friday, it was revealed that former Milwauk...</td>\n",
       "      <td>News</td>\n",
       "      <td>December 30, 2017</td>\n",
       "      <td>0</td>\n",
       "    </tr>\n",
       "    <tr>\n",
       "      <th>3</th>\n",
       "      <td>Trump Is So Obsessed He Even Has Obama’s Name...</td>\n",
       "      <td>On Christmas day, Donald Trump announced that ...</td>\n",
       "      <td>News</td>\n",
       "      <td>December 29, 2017</td>\n",
       "      <td>0</td>\n",
       "    </tr>\n",
       "    <tr>\n",
       "      <th>4</th>\n",
       "      <td>Pope Francis Just Called Out Donald Trump Dur...</td>\n",
       "      <td>Pope Francis used his annual Christmas Day mes...</td>\n",
       "      <td>News</td>\n",
       "      <td>December 25, 2017</td>\n",
       "      <td>0</td>\n",
       "    </tr>\n",
       "  </tbody>\n",
       "</table>\n",
       "</div>"
      ],
      "text/plain": [
       "                                               title  ... target\n",
       "0   Donald Trump Sends Out Embarrassing New Year’...  ...      0\n",
       "1   Drunk Bragging Trump Staffer Started Russian ...  ...      0\n",
       "2   Sheriff David Clarke Becomes An Internet Joke...  ...      0\n",
       "3   Trump Is So Obsessed He Even Has Obama’s Name...  ...      0\n",
       "4   Pope Francis Just Called Out Donald Trump Dur...  ...      0\n",
       "\n",
       "[5 rows x 5 columns]"
      ]
     },
     "metadata": {
      "tags": []
     },
     "output_type": "display_data"
    },
    {
     "data": {
      "text/html": [
       "<div>\n",
       "<style scoped>\n",
       "    .dataframe tbody tr th:only-of-type {\n",
       "        vertical-align: middle;\n",
       "    }\n",
       "\n",
       "    .dataframe tbody tr th {\n",
       "        vertical-align: top;\n",
       "    }\n",
       "\n",
       "    .dataframe thead th {\n",
       "        text-align: right;\n",
       "    }\n",
       "</style>\n",
       "<table border=\"1\" class=\"dataframe\">\n",
       "  <thead>\n",
       "    <tr style=\"text-align: right;\">\n",
       "      <th></th>\n",
       "      <th>title</th>\n",
       "      <th>text</th>\n",
       "      <th>subject</th>\n",
       "      <th>date</th>\n",
       "      <th>target</th>\n",
       "    </tr>\n",
       "  </thead>\n",
       "  <tbody>\n",
       "    <tr>\n",
       "      <th>0</th>\n",
       "      <td>As U.S. budget fight looms, Republicans flip t...</td>\n",
       "      <td>WASHINGTON (Reuters) - The head of a conservat...</td>\n",
       "      <td>politicsNews</td>\n",
       "      <td>December 31, 2017</td>\n",
       "      <td>1</td>\n",
       "    </tr>\n",
       "    <tr>\n",
       "      <th>1</th>\n",
       "      <td>U.S. military to accept transgender recruits o...</td>\n",
       "      <td>WASHINGTON (Reuters) - Transgender people will...</td>\n",
       "      <td>politicsNews</td>\n",
       "      <td>December 29, 2017</td>\n",
       "      <td>1</td>\n",
       "    </tr>\n",
       "    <tr>\n",
       "      <th>2</th>\n",
       "      <td>Senior U.S. Republican senator: 'Let Mr. Muell...</td>\n",
       "      <td>WASHINGTON (Reuters) - The special counsel inv...</td>\n",
       "      <td>politicsNews</td>\n",
       "      <td>December 31, 2017</td>\n",
       "      <td>1</td>\n",
       "    </tr>\n",
       "    <tr>\n",
       "      <th>3</th>\n",
       "      <td>FBI Russia probe helped by Australian diplomat...</td>\n",
       "      <td>WASHINGTON (Reuters) - Trump campaign adviser ...</td>\n",
       "      <td>politicsNews</td>\n",
       "      <td>December 30, 2017</td>\n",
       "      <td>1</td>\n",
       "    </tr>\n",
       "    <tr>\n",
       "      <th>4</th>\n",
       "      <td>Trump wants Postal Service to charge 'much mor...</td>\n",
       "      <td>SEATTLE/WASHINGTON (Reuters) - President Donal...</td>\n",
       "      <td>politicsNews</td>\n",
       "      <td>December 29, 2017</td>\n",
       "      <td>1</td>\n",
       "    </tr>\n",
       "  </tbody>\n",
       "</table>\n",
       "</div>"
      ],
      "text/plain": [
       "                                               title  ... target\n",
       "0  As U.S. budget fight looms, Republicans flip t...  ...      1\n",
       "1  U.S. military to accept transgender recruits o...  ...      1\n",
       "2  Senior U.S. Republican senator: 'Let Mr. Muell...  ...      1\n",
       "3  FBI Russia probe helped by Australian diplomat...  ...      1\n",
       "4  Trump wants Postal Service to charge 'much mor...  ...      1\n",
       "\n",
       "[5 rows x 5 columns]"
      ]
     },
     "metadata": {
      "tags": []
     },
     "output_type": "display_data"
    }
   ],
   "source": [
    "display(fake.head())\n",
    "display(genuine.head())\n"
   ]
  },
  {
   "cell_type": "code",
   "execution_count": 12,
   "metadata": {
    "id": "en6wKoxCPC0o"
   },
   "outputs": [],
   "source": [
    "data=pd.concat([fake,genuine],axis=0)"
   ]
  },
  {
   "cell_type": "code",
   "execution_count": 13,
   "metadata": {
    "id": "21ZaUsq5PF_Q"
   },
   "outputs": [],
   "source": [
    "data=data.reset_index(drop=True)\n",
    "data=data.drop(['subject','date','title'],axis=1)"
   ]
  },
  {
   "cell_type": "code",
   "execution_count": 14,
   "metadata": {
    "colab": {
     "base_uri": "https://localhost:8080/"
    },
    "id": "ZMHelvErPJoB",
    "outputId": "ad202589-8b8f-4c90-e9e5-6d31010d0840"
   },
   "outputs": [
    {
     "name": "stdout",
     "output_type": "stream",
     "text": [
      "Index(['text', 'target'], dtype='object')\n",
      "                                                    text  target\n",
      "0      Donald Trump just couldn t wish all Americans ...       0\n",
      "1      House Intelligence Committee Chairman Devin Nu...       0\n",
      "2      On Friday, it was revealed that former Milwauk...       0\n",
      "3      On Christmas day, Donald Trump announced that ...       0\n",
      "4      Pope Francis used his annual Christmas Day mes...       0\n",
      "...                                                  ...     ...\n",
      "44893  BRUSSELS (Reuters) - NATO allies on Tuesday we...       1\n",
      "44894  LONDON (Reuters) - LexisNexis, a provider of l...       1\n",
      "44895  MINSK (Reuters) - In the shadow of disused Sov...       1\n",
      "44896  MOSCOW (Reuters) - Vatican Secretary of State ...       1\n",
      "44897  JAKARTA (Reuters) - Indonesia will buy 11 Sukh...       1\n",
      "\n",
      "[44898 rows x 2 columns]\n"
     ]
    }
   ],
   "source": [
    "print(data.columns)\n",
    "print(data)"
   ]
  },
  {
   "cell_type": "markdown",
   "metadata": {
    "id": "aEGnNDUePOL9"
   },
   "source": [
    " **TOKENIZATION**"
   ]
  },
  {
   "cell_type": "code",
   "execution_count": 15,
   "metadata": {
    "id": "g6rJkaUBPUNo"
   },
   "outputs": [],
   "source": [
    "from nltk.tokenize import word_tokenize\n",
    "data['text']=data['text'].apply(word_tokenize)"
   ]
  },
  {
   "cell_type": "code",
   "execution_count": 16,
   "metadata": {
    "colab": {
     "base_uri": "https://localhost:8080/"
    },
    "id": "LcQXcJVmQBFt",
    "outputId": "e75b68ac-7288-4d71-d0fa-bbc9049e3ed5"
   },
   "outputs": [
    {
     "name": "stdout",
     "output_type": "stream",
     "text": [
      "                                                text  target\n",
      "0  [Donald, Trump, just, couldn, t, wish, all, Am...       0\n",
      "1  [House, Intelligence, Committee, Chairman, Dev...       0\n",
      "2  [On, Friday, ,, it, was, revealed, that, forme...       0\n",
      "3  [On, Christmas, day, ,, Donald, Trump, announc...       0\n",
      "4  [Pope, Francis, used, his, annual, Christmas, ...       0\n",
      "5  [The, number, of, cases, of, cops, brutalizing...       0\n",
      "6  [Donald, Trump, spent, a, good, portion, of, h...       0\n",
      "7  [In, the, wake, of, yet, another, court, decis...       0\n",
      "8  [Many, people, have, raised, the, alarm, regar...       0\n",
      "9  [Just, when, you, might, have, thought, we, d,...       0\n"
     ]
    }
   ],
   "source": [
    "print(data.head(10))"
   ]
  },
  {
   "cell_type": "code",
   "execution_count": 17,
   "metadata": {
    "id": "bdTmAN_JQC4s"
   },
   "outputs": [],
   "source": [
    "from nltk.stem.snowball import SnowballStemmer\n",
    "porter=SnowballStemmer(\"english\",ignore_stopwords=False)"
   ]
  },
  {
   "cell_type": "code",
   "execution_count": 18,
   "metadata": {
    "id": "6vC3jKgWRDQU"
   },
   "outputs": [],
   "source": [
    "def stem_it(text):\n",
    "  return[porter.stem(word) for word in text]"
   ]
  },
  {
   "cell_type": "code",
   "execution_count": 19,
   "metadata": {
    "id": "LC7zB9xiRZGN"
   },
   "outputs": [],
   "source": [
    "data['text']=data['text'].apply(stem_it)"
   ]
  },
  {
   "cell_type": "code",
   "execution_count": 20,
   "metadata": {
    "colab": {
     "base_uri": "https://localhost:8080/"
    },
    "id": "QsaKw-m_WZwX",
    "outputId": "e5827a01-db9d-47ae-ef0e-3f1ce06b7f64"
   },
   "outputs": [
    {
     "name": "stdout",
     "output_type": "stream",
     "text": [
      "                                                text  target\n",
      "0  [donald, trump, just, couldn, t, wish, all, am...       0\n",
      "1  [hous, intellig, committe, chairman, devin, nu...       0\n",
      "2  [on, friday, ,, it, was, reveal, that, former,...       0\n",
      "3  [on, christma, day, ,, donald, trump, announc,...       0\n",
      "4  [pope, franci, use, his, annual, christma, day...       0\n",
      "5  [the, number, of, case, of, cop, brutal, and, ...       0\n",
      "6  [donald, trump, spent, a, good, portion, of, h...       0\n",
      "7  [in, the, wake, of, yet, anoth, court, decis, ...       0\n",
      "8  [mani, peopl, have, rais, the, alarm, regard, ...       0\n",
      "9  [just, when, you, might, have, thought, we, d,...       0\n"
     ]
    }
   ],
   "source": [
    "print(data.head(10))"
   ]
  },
  {
   "cell_type": "markdown",
   "metadata": {
    "id": "rtdRAhTuW40n"
   },
   "source": [
    "**STOPWORD REMOVAL**"
   ]
  },
  {
   "cell_type": "code",
   "execution_count": 21,
   "metadata": {
    "id": "IOlUhZdyW9XD"
   },
   "outputs": [],
   "source": [
    "def stop_it(t):\n",
    "  dt=[word for word in t if len(word)>2]\n",
    "  return dt"
   ]
  },
  {
   "cell_type": "code",
   "execution_count": 22,
   "metadata": {
    "id": "KZW56ujeXGlY"
   },
   "outputs": [],
   "source": [
    "data['text']=data['text'].apply(stop_it)"
   ]
  },
  {
   "cell_type": "code",
   "execution_count": 23,
   "metadata": {
    "colab": {
     "base_uri": "https://localhost:8080/"
    },
    "id": "PpN2GoQgXjBU",
    "outputId": "49156b6b-fb93-4db4-ae8b-936470238905"
   },
   "outputs": [
    {
     "name": "stdout",
     "output_type": "stream",
     "text": [
      "0    [donald, trump, just, couldn, wish, all, ameri...\n",
      "1    [hous, intellig, committe, chairman, devin, nu...\n",
      "2    [friday, was, reveal, that, former, milwauke, ...\n",
      "3    [christma, day, donald, trump, announc, that, ...\n",
      "4    [pope, franci, use, his, annual, christma, day...\n",
      "5    [the, number, case, cop, brutal, and, kill, pe...\n",
      "6    [donald, trump, spent, good, portion, his, day...\n",
      "7    [the, wake, yet, anoth, court, decis, that, de...\n",
      "8    [mani, peopl, have, rais, the, alarm, regard, ...\n",
      "9    [just, when, you, might, have, thought, get, b...\n",
      "Name: text, dtype: object\n"
     ]
    }
   ],
   "source": [
    "print(data['text'].head(10))"
   ]
  },
  {
   "cell_type": "code",
   "execution_count": 24,
   "metadata": {
    "id": "VqK5V4ZAZWxm"
   },
   "outputs": [],
   "source": [
    "data['text']=data['text'].apply(' '.join)"
   ]
  },
  {
   "cell_type": "markdown",
   "metadata": {
    "id": "XApZeyaOX3jP"
   },
   "source": [
    "**SPLITTING OF DATA**"
   ]
  },
  {
   "cell_type": "code",
   "execution_count": 25,
   "metadata": {
    "colab": {
     "base_uri": "https://localhost:8080/",
     "height": 252
    },
    "id": "-_2RD-pxX8UR",
    "outputId": "46c1f175-d9c7-4ebd-b852-898e59023687"
   },
   "outputs": [
    {
     "data": {
      "text/plain": [
       "37823    madrid reuter two former member the catalan go...\n",
       "29534    cannon ball n.d. reuter tribal leader protest ...\n",
       "29028    ottawa reuter canadian prime minist justin tru...\n",
       "16508    wow the peopl california might lose the right ...\n",
       "37673    seoul reuter hundr thousand rohingya muslim wh...\n",
       "Name: text, dtype: object"
      ]
     },
     "metadata": {
      "tags": []
     },
     "output_type": "display_data"
    },
    {
     "name": "stdout",
     "output_type": "stream",
     "text": [
      "\n",
      "\n"
     ]
    },
    {
     "data": {
      "text/plain": [
       "37823    1\n",
       "29534    1\n",
       "29028    1\n",
       "16508    0\n",
       "37673    1\n",
       "Name: target, dtype: int64"
      ]
     },
     "metadata": {
      "tags": []
     },
     "output_type": "display_data"
    }
   ],
   "source": [
    "from sklearn.model_selection import train_test_split\n",
    "x_train,x_test,y_train,y_test=train_test_split(data['text'],data['target'],test_size=0.25)\n",
    "display(x_train.head())\n",
    "print('\\n')\n",
    "display(y_train.head())\n"
   ]
  },
  {
   "cell_type": "markdown",
   "metadata": {
    "id": "99Ndn9t1Z1c_"
   },
   "source": [
    "**VECTORIZATION**"
   ]
  },
  {
   "cell_type": "code",
   "execution_count": 27,
   "metadata": {
    "id": "933XuSxfZ5Fl"
   },
   "outputs": [],
   "source": [
    "from sklearn.feature_extraction.text import TfidfVectorizer\n",
    "my_tfidf=TfidfVectorizer(max_df=0.7)\n",
    "\n",
    "tfidf_train=my_tfidf.fit_transform(x_train)\n",
    "tfidf_test=my_tfidf.transform(x_test)"
   ]
  },
  {
   "cell_type": "code",
   "execution_count": 28,
   "metadata": {
    "colab": {
     "base_uri": "https://localhost:8080/"
    },
    "id": "9GhfMNn0a7bE",
    "outputId": "e97f6536-9464-4732-8664-47b7b475c0c7"
   },
   "outputs": [
    {
     "name": "stdout",
     "output_type": "stream",
     "text": [
      "  (0, 73220)\t0.06709158242015545\n",
      "  (0, 42414)\t0.03299732074152407\n",
      "  (0, 25643)\t0.023938331140698755\n",
      "  (0, 76355)\t0.045502993076204645\n",
      "  (0, 21763)\t0.032051230147129475\n",
      "  (0, 54278)\t0.03305446301237055\n",
      "  (0, 88189)\t0.0234911314175314\n",
      "  (0, 38948)\t0.02275423542939424\n",
      "  (0, 87780)\t0.05410812977553808\n",
      "  (0, 10979)\t0.03855068274281021\n",
      "  (0, 29924)\t0.03847229085219863\n",
      "  (0, 42793)\t0.02616016398563616\n",
      "  (0, 13690)\t0.06445434199076537\n",
      "  (0, 66280)\t0.06608523477998308\n",
      "  (0, 18074)\t0.05782065660514665\n",
      "  (0, 61251)\t0.0546202941297225\n",
      "  (0, 8210)\t0.022483121697975325\n",
      "  (0, 88359)\t0.03339237223942692\n",
      "  (0, 69051)\t0.06915982344385303\n",
      "  (0, 74275)\t0.024142649704448578\n",
      "  (0, 29907)\t0.05261182358741981\n",
      "  (0, 1)\t0.030013689487526397\n",
      "  (0, 885)\t0.05564958886921307\n",
      "  (0, 12449)\t0.061434496717701\n",
      "  (0, 32555)\t0.08680296675023783\n",
      "  :\t:\n",
      "  (33672, 73728)\t0.06721509019997814\n",
      "  (33672, 60565)\t0.035650520237744766\n",
      "  (33672, 61254)\t0.036498381590858935\n",
      "  (33672, 7355)\t0.03320085688132941\n",
      "  (33672, 14217)\t0.08549010640623844\n",
      "  (33672, 86557)\t0.2709500380676479\n",
      "  (33672, 12256)\t0.09164870113344371\n",
      "  (33672, 61236)\t0.043717988594775305\n",
      "  (33672, 88591)\t0.07470529435496448\n",
      "  (33672, 32750)\t0.09896142291765278\n",
      "  (33672, 9515)\t0.09050696586048032\n",
      "  (33672, 83175)\t0.10210199843630628\n",
      "  (33672, 31688)\t0.06315900298340624\n",
      "  (33672, 65995)\t0.06842891772181002\n",
      "  (33672, 38948)\t0.0447332142924885\n",
      "  (33672, 8210)\t0.04420022390998012\n",
      "  (33672, 81340)\t0.05770179084906625\n",
      "  (33672, 46857)\t0.11130897502498298\n",
      "  (33672, 17581)\t0.04190821557400258\n",
      "  (33672, 10179)\t0.13205831565524237\n",
      "  (33672, 75231)\t0.048490129832690874\n",
      "  (33672, 36297)\t0.050149597945335335\n",
      "  (33672, 65657)\t0.15866662561752704\n",
      "  (33672, 8176)\t0.035297692634922335\n",
      "  (33672, 33283)\t0.028068449863872986\n"
     ]
    }
   ],
   "source": [
    "print(tfidf_train)"
   ]
  },
  {
   "cell_type": "markdown",
   "metadata": {
    "id": "K7iJDjdJbYJh"
   },
   "source": [
    "**LOGIC** **REGRESSION**"
   ]
  },
  {
   "cell_type": "code",
   "execution_count": 29,
   "metadata": {
    "id": "XaTEg0qDbfJj"
   },
   "outputs": [],
   "source": [
    "from sklearn.linear_model import LogisticRegression\n",
    "from sklearn.metrics import accuracy_score"
   ]
  },
  {
   "cell_type": "code",
   "execution_count": 30,
   "metadata": {
    "colab": {
     "base_uri": "https://localhost:8080/"
    },
    "id": "WYYRpOA1bwmQ",
    "outputId": "66238e57-ce04-45d1-c764-532af1f77bf7"
   },
   "outputs": [
    {
     "name": "stdout",
     "output_type": "stream",
     "text": [
      "98.96659242761693\n"
     ]
    }
   ],
   "source": [
    "model_1=LogisticRegression(max_iter=900)\n",
    "model_1.fit(tfidf_train, y_train)\n",
    "pred_1=model_1.predict(tfidf_test)\n",
    "cr1=accuracy_score(y_test,pred_1)\n",
    "print(cr1*100)"
   ]
  },
  {
   "cell_type": "markdown",
   "metadata": {
    "id": "iFDvChC7lCLb"
   },
   "source": [
    "**PASSIVE AGGRESSIVE CLASSIFIER**"
   ]
  },
  {
   "cell_type": "code",
   "execution_count": 32,
   "metadata": {
    "colab": {
     "base_uri": "https://localhost:8080/"
    },
    "id": "o0oB4abwlZlC",
    "outputId": "ce7f08c5-6bea-43b9-a956-af6b12fbb298"
   },
   "outputs": [
    {
     "data": {
      "text/plain": [
       "PassiveAggressiveClassifier(C=1.0, average=False, class_weight=None,\n",
       "                            early_stopping=False, fit_intercept=True,\n",
       "                            loss='hinge', max_iter=50, n_iter_no_change=5,\n",
       "                            n_jobs=None, random_state=None, shuffle=True,\n",
       "                            tol=0.001, validation_fraction=0.1, verbose=0,\n",
       "                            warm_start=False)"
      ]
     },
     "execution_count": 32,
     "metadata": {
      "tags": []
     },
     "output_type": "execute_result"
    }
   ],
   "source": [
    "from sklearn.linear_model import PassiveAggressiveClassifier\n",
    "\n",
    "model=PassiveAggressiveClassifier(max_iter=50)\n",
    "model.fit(tfidf_train,y_train)"
   ]
  },
  {
   "cell_type": "code",
   "execution_count": 33,
   "metadata": {
    "colab": {
     "base_uri": "https://localhost:8080/"
    },
    "id": "eBn8qsAyl04K",
    "outputId": "e9b5c178-f893-4cfd-fe05-a1b606397fe5"
   },
   "outputs": [
    {
     "name": "stdout",
     "output_type": "stream",
     "text": [
      "The accuracy of prediction is: 99.6881959910913\n"
     ]
    }
   ],
   "source": [
    "y_pred=model.predict(tfidf_test)\n",
    "accscore=accuracy_score(y_test,y_pred)\n",
    "print('The accuracy of prediction is:',accscore*100)"
   ]
  }
 ],
 "metadata": {
  "colab": {
   "collapsed_sections": [],
   "name": "News Classification.ipynb",
   "provenance": []
  },
  "kernelspec": {
   "display_name": "Python 3",
   "language": "python",
   "name": "python3"
  },
  "language_info": {
   "codemirror_mode": {
    "name": "ipython",
    "version": 3
   },
   "file_extension": ".py",
   "mimetype": "text/x-python",
   "name": "python",
   "nbconvert_exporter": "python",
   "pygments_lexer": "ipython3",
   "version": "3.8.8"
  }
 },
 "nbformat": 4,
 "nbformat_minor": 1
}
